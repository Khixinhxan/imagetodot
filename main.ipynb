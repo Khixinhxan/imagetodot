{
 "cells": [
  {
   "cell_type": "code",
   "execution_count": 6,
   "id": "e6de1893",
   "metadata": {},
   "outputs": [
    {
     "name": "stdout",
     "output_type": "stream",
     "text": [
      "Processing /Users/dang/Library/Caches/pip/wheels/56/88/e6/897194cfe8c08a8b9afd881d3bf53d102e13fa39607d721383/image-1.5.33-py2.py3-none-any.whl\n",
      "Collecting django\n",
      "  Using cached Django-3.2.3-py3-none-any.whl (7.9 MB)\n",
      "Requirement already satisfied: six in /Library/Frameworks/Python.framework/Versions/3.7/lib/python3.7/site-packages (from image) (1.15.0)\n",
      "Collecting pillow\n",
      "  Using cached Pillow-8.2.0-cp37-cp37m-macosx_10_10_x86_64.whl (2.8 MB)\n",
      "Requirement already satisfied: pytz in /Library/Frameworks/Python.framework/Versions/3.7/lib/python3.7/site-packages (from django->image) (2020.4)\n",
      "Collecting sqlparse>=0.2.2\n",
      "  Using cached sqlparse-0.4.1-py3-none-any.whl (42 kB)\n",
      "Collecting asgiref<4,>=3.3.2\n",
      "  Using cached asgiref-3.3.4-py3-none-any.whl (22 kB)\n",
      "Requirement already satisfied: typing-extensions; python_version < \"3.8\" in /Library/Frameworks/Python.framework/Versions/3.7/lib/python3.7/site-packages (from asgiref<4,>=3.3.2->django->image) (3.10.0.0)\n",
      "Installing collected packages: sqlparse, asgiref, django, pillow, image\n",
      "Successfully installed asgiref-3.3.4 django-3.2.3 image-1.5.33 pillow-8.2.0 sqlparse-0.4.1\n",
      "\u001b[33mWARNING: You are using pip version 20.1.1; however, version 21.1.2 is available.\n",
      "You should consider upgrading via the '/Library/Frameworks/Python.framework/Versions/3.7/bin/python3.7 -m pip install --upgrade pip' command.\u001b[0m\n",
      "Note: you may need to restart the kernel to use updated packages.\n"
     ]
    }
   ],
   "source": [
    "pip install image"
   ]
  },
  {
   "cell_type": "code",
   "execution_count": 7,
   "id": "boring-austria",
   "metadata": {},
   "outputs": [],
   "source": [
    "from PIL import Image, ImageDraw\n",
    "import pandas as pd"
   ]
  },
  {
   "cell_type": "code",
   "execution_count": 8,
   "id": "resident-enzyme",
   "metadata": {},
   "outputs": [],
   "source": [
    "hex_data  = pd.read_csv(r\"./colordata/Hex_data.csv\")"
   ]
  },
  {
   "cell_type": "code",
   "execution_count": 9,
   "id": "martial-kingdom",
   "metadata": {
    "scrolled": true
   },
   "outputs": [
    {
     "data": {
      "text/html": [
       "<div>\n",
       "<style scoped>\n",
       "    .dataframe tbody tr th:only-of-type {\n",
       "        vertical-align: middle;\n",
       "    }\n",
       "\n",
       "    .dataframe tbody tr th {\n",
       "        vertical-align: top;\n",
       "    }\n",
       "\n",
       "    .dataframe thead th {\n",
       "        text-align: right;\n",
       "    }\n",
       "</style>\n",
       "<table border=\"1\" class=\"dataframe\">\n",
       "  <thead>\n",
       "    <tr style=\"text-align: right;\">\n",
       "      <th></th>\n",
       "      <th>Material</th>\n",
       "      <th>name</th>\n",
       "      <th>Hex</th>\n",
       "      <th>Hex_primary</th>\n",
       "    </tr>\n",
       "  </thead>\n",
       "  <tbody>\n",
       "    <tr>\n",
       "      <th>0</th>\n",
       "      <td>Solid</td>\n",
       "      <td>White</td>\n",
       "      <td>F4F4F4</td>\n",
       "      <td>#F4F4F4</td>\n",
       "    </tr>\n",
       "    <tr>\n",
       "      <th>1</th>\n",
       "      <td>Solid</td>\n",
       "      <td>Grey</td>\n",
       "      <td>8A928D</td>\n",
       "      <td>#8A928D</td>\n",
       "    </tr>\n",
       "    <tr>\n",
       "      <th>2</th>\n",
       "      <td>Solid</td>\n",
       "      <td>Light Yellow</td>\n",
       "      <td>FFD67F</td>\n",
       "      <td>#FFD67F</td>\n",
       "    </tr>\n",
       "    <tr>\n",
       "      <th>3</th>\n",
       "      <td>Solid</td>\n",
       "      <td>Brick Red</td>\n",
       "      <td>F2705E</td>\n",
       "      <td>#F2705E</td>\n",
       "    </tr>\n",
       "    <tr>\n",
       "      <th>4</th>\n",
       "      <td>Solid</td>\n",
       "      <td>Brick Yellow</td>\n",
       "      <td>B0A06F</td>\n",
       "      <td>#B0A06F</td>\n",
       "    </tr>\n",
       "  </tbody>\n",
       "</table>\n",
       "</div>"
      ],
      "text/plain": [
       "  Material          name     Hex Hex_primary\n",
       "0    Solid         White  F4F4F4     #F4F4F4\n",
       "1    Solid          Grey  8A928D     #8A928D\n",
       "2    Solid  Light Yellow  FFD67F     #FFD67F\n",
       "3    Solid     Brick Red  F2705E     #F2705E\n",
       "4    Solid  Brick Yellow  B0A06F     #B0A06F"
      ]
     },
     "execution_count": 9,
     "metadata": {},
     "output_type": "execute_result"
    }
   ],
   "source": [
    "hex_data.head()"
   ]
  },
  {
   "cell_type": "code",
   "execution_count": 11,
   "id": "rental-african",
   "metadata": {
    "scrolled": true
   },
   "outputs": [],
   "source": [
    "def convert_hex_to_rgb(hex):\n",
    "    return tuple(int(hex[i:i+2], 16) for i in (0, 2, 4))\n",
    "hex_data['rgb'] = hex_data['Hex'].map(convert_hex_to_rgb)"
   ]
  },
  {
   "cell_type": "code",
   "execution_count": 12,
   "id": "delayed-universal",
   "metadata": {
    "scrolled": true
   },
   "outputs": [],
   "source": [
    "some_color_2 = list(hex_data['rgb'])"
   ]
  },
  {
   "cell_type": "code",
   "execution_count": 13,
   "id": "tamil-tattoo",
   "metadata": {},
   "outputs": [],
   "source": [
    "hex_data.to_csv(\"./colordata/hex_data_new.csv\")"
   ]
  },
  {
   "cell_type": "code",
   "execution_count": 14,
   "id": "outer-notion",
   "metadata": {},
   "outputs": [
    {
     "data": {
      "text/html": [
       "<div>\n",
       "<style scoped>\n",
       "    .dataframe tbody tr th:only-of-type {\n",
       "        vertical-align: middle;\n",
       "    }\n",
       "\n",
       "    .dataframe tbody tr th {\n",
       "        vertical-align: top;\n",
       "    }\n",
       "\n",
       "    .dataframe thead th {\n",
       "        text-align: right;\n",
       "    }\n",
       "</style>\n",
       "<table border=\"1\" class=\"dataframe\">\n",
       "  <thead>\n",
       "    <tr style=\"text-align: right;\">\n",
       "      <th></th>\n",
       "      <th>Material</th>\n",
       "      <th>name</th>\n",
       "      <th>Hex</th>\n",
       "      <th>Hex_primary</th>\n",
       "      <th>rgb</th>\n",
       "    </tr>\n",
       "  </thead>\n",
       "  <tbody>\n",
       "    <tr>\n",
       "      <th>0</th>\n",
       "      <td>Solid</td>\n",
       "      <td>White</td>\n",
       "      <td>F4F4F4</td>\n",
       "      <td>#F4F4F4</td>\n",
       "      <td>(244, 244, 244)</td>\n",
       "    </tr>\n",
       "    <tr>\n",
       "      <th>1</th>\n",
       "      <td>Solid</td>\n",
       "      <td>Grey</td>\n",
       "      <td>8A928D</td>\n",
       "      <td>#8A928D</td>\n",
       "      <td>(138, 146, 141)</td>\n",
       "    </tr>\n",
       "    <tr>\n",
       "      <th>2</th>\n",
       "      <td>Solid</td>\n",
       "      <td>Light Yellow</td>\n",
       "      <td>FFD67F</td>\n",
       "      <td>#FFD67F</td>\n",
       "      <td>(255, 214, 127)</td>\n",
       "    </tr>\n",
       "    <tr>\n",
       "      <th>3</th>\n",
       "      <td>Solid</td>\n",
       "      <td>Brick Red</td>\n",
       "      <td>F2705E</td>\n",
       "      <td>#F2705E</td>\n",
       "      <td>(242, 112, 94)</td>\n",
       "    </tr>\n",
       "    <tr>\n",
       "      <th>4</th>\n",
       "      <td>Solid</td>\n",
       "      <td>Brick Yellow</td>\n",
       "      <td>B0A06F</td>\n",
       "      <td>#B0A06F</td>\n",
       "      <td>(176, 160, 111)</td>\n",
       "    </tr>\n",
       "  </tbody>\n",
       "</table>\n",
       "</div>"
      ],
      "text/plain": [
       "  Material          name     Hex Hex_primary              rgb\n",
       "0    Solid         White  F4F4F4     #F4F4F4  (244, 244, 244)\n",
       "1    Solid          Grey  8A928D     #8A928D  (138, 146, 141)\n",
       "2    Solid  Light Yellow  FFD67F     #FFD67F  (255, 214, 127)\n",
       "3    Solid     Brick Red  F2705E     #F2705E   (242, 112, 94)\n",
       "4    Solid  Brick Yellow  B0A06F     #B0A06F  (176, 160, 111)"
      ]
     },
     "execution_count": 14,
     "metadata": {},
     "output_type": "execute_result"
    }
   ],
   "source": [
    "hex_data.head()"
   ]
  },
  {
   "cell_type": "code",
   "execution_count": 15,
   "id": "postal-leone",
   "metadata": {
    "scrolled": true
   },
   "outputs": [],
   "source": [
    "def image_to_dots(image_path: str,\n",
    "                  pixelization_length=10,\n",
    "                  mapping_color=False\n",
    "                 ):\n",
    "    \n",
    "    img = Image.open(image_path)\n",
    "    pixels = img.load()\n",
    "\n",
    "    # Choose the pixelization length\n",
    "    pixelization_length = 10\n",
    "\n",
    "    # Define the pixelize and mask image\n",
    "    pixelize_image = Image.new('RGBA', img.size)\n",
    "    mask_image = Image.new('RGBA', img.size, 'black')\n",
    "\n",
    "    x_units = int(img.size[0] / pixelization_length)\n",
    "    y_units = int(img.size[1] / pixelization_length)\n",
    "\n",
    "    draw = ImageDraw.Draw(pixelize_image)\n",
    "    mask_draw = ImageDraw.Draw(mask_image)\n",
    "\n",
    "    for i in range(0, x_units):\n",
    "        for j in range(0, y_units):\n",
    "            mask_draw.ellipse((i * pixelization_length, j * pixelization_length,\n",
    "                      i * pixelization_length + pixelization_length - 1,\n",
    "                      j * pixelization_length + pixelization_length - 1),\n",
    "                     (255,255,255,0))\n",
    "\n",
    "            total_red_intensity = total_green_intensity = total_blue_intensity = 0\n",
    "            averaging_pixel_number = pixelization_length * pixelization_length\n",
    "\n",
    "            for k in range(0, pixelization_length):\n",
    "                for l in range(0, pixelization_length):\n",
    "                    total_red_intensity += pixels[i * pixelization_length + k, j * pixelization_length + l][0]\n",
    "                    total_green_intensity += pixels[i * pixelization_length + k, j * pixelization_length + l][1]\n",
    "                    total_blue_intensity += pixels[i * pixelization_length + k, j * pixelization_length + l][2]\n",
    "\n",
    "            average_red_intensity = int(total_red_intensity / averaging_pixel_number)\n",
    "            average_green_intensity = int(total_green_intensity / averaging_pixel_number)\n",
    "            average_blue_intensity = int(total_blue_intensity / averaging_pixel_number)\n",
    "\n",
    "            if mapping_color is True:\n",
    "                some_color_1 = [(average_red_intensity, average_green_intensity, average_blue_intensity)]\n",
    "                closest_idx = scipy.spatial.distance.cdist(some_color_1,some_color_2).argmin(1)\n",
    "                data_in_palette = some_color_2[closest_idx[0]]\n",
    "                average_red_intensity_new, average_green_intensity_new, average_blue_intensity_new = tuple(data_in_palette)\n",
    "                draw.rectangle((i * pixelization_length, j * pixelization_length,\n",
    "                                i * pixelization_length + pixelization_length - 1,\n",
    "                                j * pixelization_length + pixelization_length - 1),\n",
    "                               (average_red_intensity_new, average_green_intensity_new, average_blue_intensity_new)\n",
    "                              )\n",
    "            else:\n",
    "                draw.rectangle((i * pixelization_length, j * pixelization_length,\n",
    "                                i * pixelization_length + pixelization_length - 1,\n",
    "                                j * pixelization_length + pixelization_length - 1),\n",
    "                               (average_red_intensity, average_green_intensity, average_blue_intensity)\n",
    "                              )\n",
    "\n",
    "    # Save the intermediate images for demo purpose\n",
    "    mask_image.save(\"mask.png\")\n",
    "    pixelize_image = pixelize_image.convert('RGB')\n",
    "    pixelize_image.save(\"pixelize.jpg\")\n",
    "\n",
    "    pixelize_image.paste(mask_image, mask=mask_image)\n",
    "    pixelize_image = pixelize_image.convert('RGB')\n",
    "    pixelize_image.save(\"result.png\")\n",
    "    pixelize_image.show()"
   ]
  },
  {
   "cell_type": "code",
   "execution_count": 17,
   "id": "recent-owner",
   "metadata": {},
   "outputs": [],
   "source": [
    "img = \"./testimage/1.jpg\"\n",
    "image_to_dots(image_path=img, pixelization_length=10, mapping_color=False)"
   ]
  }
 ],
 "metadata": {
  "kernelspec": {
   "display_name": "Python 3",
   "language": "python",
   "name": "python3"
  },
  "language_info": {
   "codemirror_mode": {
    "name": "ipython",
    "version": 3
   },
   "file_extension": ".py",
   "mimetype": "text/x-python",
   "name": "python",
   "nbconvert_exporter": "python",
   "pygments_lexer": "ipython3",
   "version": "3.7.9"
  }
 },
 "nbformat": 4,
 "nbformat_minor": 5
}
